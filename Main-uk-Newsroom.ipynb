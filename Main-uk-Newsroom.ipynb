{
 "metadata": {
  "language_info": {
   "codemirror_mode": {
    "name": "ipython",
    "version": 3
   },
   "file_extension": ".py",
   "mimetype": "text/x-python",
   "name": "python",
   "nbconvert_exporter": "python",
   "pygments_lexer": "ipython3",
   "version": "3.8.5-final"
  },
  "orig_nbformat": 2,
  "kernelspec": {
   "name": "python3",
   "display_name": "Python 3",
   "language": "python"
  }
 },
 "nbformat": 4,
 "nbformat_minor": 2,
 "cells": [
  {
   "cell_type": "code",
   "execution_count": 1,
   "metadata": {},
   "outputs": [],
   "source": [
    "import pandas as pd\n",
    "import os"
   ]
  },
  {
   "cell_type": "code",
   "execution_count": 11,
   "metadata": {},
   "outputs": [],
   "source": [
    "df=pd.DataFrame()\n",
    "for file in os.listdir('data/'):\n",
    "    df_tmp = pd.read_feather('data/' + file)\n",
    "    df = df.append(df_tmp)\n",
    "#df.head()\n"
   ]
  },
  {
   "cell_type": "code",
   "execution_count": 26,
   "metadata": {},
   "outputs": [
    {
     "output_type": "execute_result",
     "data": {
      "text/plain": [
       "nytimes                    7148\n",
       "cnn                        7148\n",
       "breitbart                  7148\n",
       "bbc                        7148\n",
       "nypost                     7147\n",
       "timesofindia.indiatimes    7147\n",
       "foxnews                    7147\n",
       "chicagotribune             7147\n",
       "reuters                    7147\n",
       "aljazeera                  7147\n",
       "cbsnews                    7147\n",
       "businessinsider            7147\n",
       "nbcnews                    7147\n",
       "latimes                    7147\n",
       "nationalreview             7147\n",
       "newsweek                   7147\n",
       "theguardian                7146\n",
       "thesun                     7146\n",
       "thehill                    7146\n",
       "telegraph                  7146\n",
       "independent                7146\n",
       "vox                        7146\n",
       "vice                       7146\n",
       "politico                   7146\n",
       "washingtontimes            7146\n",
       "dailymail                  7146\n",
       "boingboing                 7143\n",
       "usatoday                   7141\n",
       "apnews                     7096\n",
       "dailycaller                6604\n",
       "wired                      6146\n",
       "zerohedge                  5385\n",
       "theblaze                   4493\n",
       "realclearpolitics          4464\n",
       "observer                   4008\n",
       "thegatewaypundit           3512\n",
       "americanthinker            2242\n",
       "newsbusters                1396\n",
       "theamericanconservative    1132\n",
       "yahoo                       325\n",
       "Name: source, dtype: int64"
      ]
     },
     "metadata": {},
     "execution_count": 26
    }
   ],
   "source": [
    "def strip_url(string_in,suffix):\n",
    "    url_string = string_in\n",
    "    for suf in suffix:\n",
    "        if suf in url_string:\n",
    "            pos = url_string.find(suf)\n",
    "            url_string = url_string[:pos]\n",
    "    \n",
    "    url_string = url_string.replace('https://','')\n",
    "    url_string = url_string.replace('www.','')\n",
    "    return url_string\n",
    "\n",
    "suffs = ['.com','.org','.co.uk','.net']\n",
    "df['source'] = df['link'].apply(strip_url,1,args=(suffs,))\n",
    "df['source'].value_counts()"
   ]
  },
  {
   "cell_type": "code",
   "execution_count": null,
   "metadata": {},
   "outputs": [],
   "source": []
  }
 ]
}